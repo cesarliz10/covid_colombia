{
 "cells": [
  {
   "cell_type": "markdown",
   "metadata": {},
   "source": [
    "## Análisis de contagios identificados por COVID-19 en Colombia al 27/03/202\n",
    "\n",
    "Fuente: Gobierno Nacional (datos disponibles en este [enlace](https://coronaviruscolombia.gov.co/Covid19/index.html)).\n",
    "Por favor tener presente:\n",
    "> Las cifras de contagios en los reportes oficiales **NO refleja la totalidad de contagios** en la población colombiana sino a una fracción menor, correspondiente a los **casos diagnosticados como positivos** en las pruebas de detección realizadas hasta la fecha.\n",
    "\n",
    "> La totalidad de personas contagiadas puede ser considerablemente mayor"
   ]
  },
  {
   "cell_type": "code",
   "execution_count": 1,
   "metadata": {},
   "outputs": [],
   "source": [
    "import pandas as pd\n",
    "import numpy as np\n",
    "import datetime as dt\n",
    "import seaborn as sns\n",
    "import matplotlib.pyplot as plt\n",
    "from scipy.optimize import curve_fit"
   ]
  },
  {
   "cell_type": "code",
   "execution_count": 2,
   "metadata": {},
   "outputs": [
    {
     "data": {
      "text/html": [
       "<div>\n",
       "<style scoped>\n",
       "    .dataframe tbody tr th:only-of-type {\n",
       "        vertical-align: middle;\n",
       "    }\n",
       "\n",
       "    .dataframe tbody tr th {\n",
       "        vertical-align: top;\n",
       "    }\n",
       "\n",
       "    .dataframe thead th {\n",
       "        text-align: right;\n",
       "    }\n",
       "</style>\n",
       "<table border=\"1\" class=\"dataframe\">\n",
       "  <thead>\n",
       "    <tr style=\"text-align: right;\">\n",
       "      <th></th>\n",
       "      <th>ID de caso</th>\n",
       "      <th>Fecha de diagnóstico</th>\n",
       "      <th>Ciudad de ubicación</th>\n",
       "      <th>Departamento</th>\n",
       "      <th>Atención</th>\n",
       "      <th>Edad</th>\n",
       "      <th>Sexo</th>\n",
       "      <th>Tipo*</th>\n",
       "      <th>País de procedencia</th>\n",
       "    </tr>\n",
       "  </thead>\n",
       "  <tbody>\n",
       "    <tr>\n",
       "      <th>0</th>\n",
       "      <td>1</td>\n",
       "      <td>06/03/2020</td>\n",
       "      <td>Bogotá</td>\n",
       "      <td>Bogotá</td>\n",
       "      <td>Recuperado</td>\n",
       "      <td>10 a 19</td>\n",
       "      <td>F</td>\n",
       "      <td>Importado</td>\n",
       "      <td>Italia</td>\n",
       "    </tr>\n",
       "    <tr>\n",
       "      <th>1</th>\n",
       "      <td>2</td>\n",
       "      <td>09/03/2020</td>\n",
       "      <td>Buga</td>\n",
       "      <td>Valle</td>\n",
       "      <td>Recuperado</td>\n",
       "      <td>30 a 39</td>\n",
       "      <td>M</td>\n",
       "      <td>Importado</td>\n",
       "      <td>España</td>\n",
       "    </tr>\n",
       "    <tr>\n",
       "      <th>2</th>\n",
       "      <td>3</td>\n",
       "      <td>09/03/2020</td>\n",
       "      <td>Medellín</td>\n",
       "      <td>Antioquia</td>\n",
       "      <td>Recuperado</td>\n",
       "      <td>50 a 59</td>\n",
       "      <td>F</td>\n",
       "      <td>Importado</td>\n",
       "      <td>España</td>\n",
       "    </tr>\n",
       "    <tr>\n",
       "      <th>3</th>\n",
       "      <td>4</td>\n",
       "      <td>11/03/2020</td>\n",
       "      <td>Medellín</td>\n",
       "      <td>Antioquia</td>\n",
       "      <td>En casa</td>\n",
       "      <td>50 a 59</td>\n",
       "      <td>M</td>\n",
       "      <td>Relacionado</td>\n",
       "      <td>Colombia</td>\n",
       "    </tr>\n",
       "    <tr>\n",
       "      <th>4</th>\n",
       "      <td>5</td>\n",
       "      <td>11/03/2020</td>\n",
       "      <td>Medellín</td>\n",
       "      <td>Antioquia</td>\n",
       "      <td>Recuperado</td>\n",
       "      <td>20 a 29</td>\n",
       "      <td>M</td>\n",
       "      <td>Relacionado</td>\n",
       "      <td>Colombia</td>\n",
       "    </tr>\n",
       "    <tr>\n",
       "      <th>...</th>\n",
       "      <td>...</td>\n",
       "      <td>...</td>\n",
       "      <td>...</td>\n",
       "      <td>...</td>\n",
       "      <td>...</td>\n",
       "      <td>...</td>\n",
       "      <td>...</td>\n",
       "      <td>...</td>\n",
       "      <td>...</td>\n",
       "    </tr>\n",
       "    <tr>\n",
       "      <th>603</th>\n",
       "      <td>604</td>\n",
       "      <td>28/3/2020</td>\n",
       "      <td>Barranquilla</td>\n",
       "      <td>Barranquilla</td>\n",
       "      <td>En casa</td>\n",
       "      <td>50 a 59</td>\n",
       "      <td>M</td>\n",
       "      <td>Relacionado</td>\n",
       "      <td>Colombia</td>\n",
       "    </tr>\n",
       "    <tr>\n",
       "      <th>604</th>\n",
       "      <td>605</td>\n",
       "      <td>28/3/2020</td>\n",
       "      <td>Barranquilla</td>\n",
       "      <td>Barranquilla</td>\n",
       "      <td>En casa</td>\n",
       "      <td>30 a 39</td>\n",
       "      <td>F</td>\n",
       "      <td>Relacionado</td>\n",
       "      <td>Colombia</td>\n",
       "    </tr>\n",
       "    <tr>\n",
       "      <th>605</th>\n",
       "      <td>606</td>\n",
       "      <td>28/3/2020</td>\n",
       "      <td>Turbaco</td>\n",
       "      <td>Bolívar</td>\n",
       "      <td>En casa</td>\n",
       "      <td>50 a 59</td>\n",
       "      <td>M</td>\n",
       "      <td>Relacionado</td>\n",
       "      <td>Colombia</td>\n",
       "    </tr>\n",
       "    <tr>\n",
       "      <th>606</th>\n",
       "      <td>607</td>\n",
       "      <td>28/3/2020</td>\n",
       "      <td>Cartagena</td>\n",
       "      <td>Cartagena</td>\n",
       "      <td>En casa</td>\n",
       "      <td>30 a 39</td>\n",
       "      <td>M</td>\n",
       "      <td>Relacionado</td>\n",
       "      <td>Colombia</td>\n",
       "    </tr>\n",
       "    <tr>\n",
       "      <th>607</th>\n",
       "      <td>608</td>\n",
       "      <td>28/3/2020</td>\n",
       "      <td>Barranquilla</td>\n",
       "      <td>Barranquilla</td>\n",
       "      <td>En casa</td>\n",
       "      <td>40 a 49</td>\n",
       "      <td>M</td>\n",
       "      <td>Importado</td>\n",
       "      <td>España</td>\n",
       "    </tr>\n",
       "  </tbody>\n",
       "</table>\n",
       "<p>608 rows × 9 columns</p>\n",
       "</div>"
      ],
      "text/plain": [
       "     ID de caso Fecha de diagnóstico Ciudad de ubicación  Departamento  \\\n",
       "0             1           06/03/2020              Bogotá        Bogotá   \n",
       "1             2           09/03/2020                Buga         Valle   \n",
       "2             3           09/03/2020            Medellín     Antioquia   \n",
       "3             4           11/03/2020            Medellín     Antioquia   \n",
       "4             5           11/03/2020            Medellín     Antioquia   \n",
       "..          ...                  ...                 ...           ...   \n",
       "603         604            28/3/2020        Barranquilla  Barranquilla   \n",
       "604         605            28/3/2020        Barranquilla  Barranquilla   \n",
       "605         606            28/3/2020             Turbaco       Bolívar   \n",
       "606         607            28/3/2020           Cartagena     Cartagena   \n",
       "607         608            28/3/2020        Barranquilla  Barranquilla   \n",
       "\n",
       "       Atención     Edad Sexo        Tipo* País de procedencia  \n",
       "0    Recuperado  10 a 19    F    Importado              Italia  \n",
       "1    Recuperado  30 a 39    M    Importado              España  \n",
       "2    Recuperado  50 a 59    F    Importado              España  \n",
       "3       En casa  50 a 59    M  Relacionado            Colombia  \n",
       "4    Recuperado  20 a 29    M  Relacionado            Colombia  \n",
       "..          ...      ...  ...          ...                 ...  \n",
       "603     En casa  50 a 59    M  Relacionado            Colombia  \n",
       "604     En casa  30 a 39    F  Relacionado            Colombia  \n",
       "605     En casa  50 a 59    M  Relacionado            Colombia  \n",
       "606     En casa  30 a 39    M  Relacionado            Colombia  \n",
       "607     En casa  40 a 49    M    Importado              España  \n",
       "\n",
       "[608 rows x 9 columns]"
      ]
     },
     "execution_count": 2,
     "metadata": {},
     "output_type": "execute_result"
    }
   ],
   "source": [
    "confirmed_cases = pd.read_csv(\"casos_03_28.csv\")\n",
    "confirmed_cases"
   ]
  },
  {
   "cell_type": "code",
   "execution_count": 3,
   "metadata": {},
   "outputs": [],
   "source": [
    "# dataframe processing for analysis\n",
    "original_names = confirmed_cases.columns.to_list()\n",
    "column_names = ['id','date','city','department','status','age','gender','origin','related_origin_country']\n",
    "column_types = ['int','str','str','str','str','str','str','str','str']\n",
    "\n",
    "df = ( confirmed_cases.copy()\n",
    "      .astype(  dtype={k:v for k,v in zip(original_names, column_types)})\n",
    "      .rename(columns={k:v for k,v in zip(original_names, column_names)})\n",
    "     ).set_index('id')\n",
    "df['date'] = pd.to_datetime(df['date'],dayfirst=True)"
   ]
  },
  {
   "cell_type": "code",
   "execution_count": 4,
   "metadata": {},
   "outputs": [],
   "source": [
    "df_daily = ( df.groupby(['date'])\n",
    "            .apply(len)\n",
    "            .reset_index()\n",
    "            .rename(columns={0:'new_daily'})\n",
    "           )\n",
    "df_daily['total'] = pd.Series([df_daily['new_daily'].iloc[:i+1].sum() for i in df_daily.index])"
   ]
  },
  {
   "cell_type": "code",
   "execution_count": 8,
   "metadata": {},
   "outputs": [],
   "source": [
    "def exp_func(x, a, b, c):\n",
    "    return a*np.exp(-b*x)+c\n",
    "\n",
    "mask = df_daily.total >= 40\n",
    "x=df_daily[mask].index\n",
    "y=df_daily[mask].total\n",
    "\n",
    "popt, pcov = curve_fit(exp_func, x, y, p0=(1, 1e-6, 1))\n",
    "\n",
    "xx=np.array(x) + 2\n",
    "yy =exp_func(xx, *popt)"
   ]
  },
  {
   "cell_type": "code",
   "execution_count": 9,
   "metadata": {},
   "outputs": [
    {
     "data": {
      "image/png": "[encoded data removed]",
      "text/plain": [
       "<Figure size 504x360 with 1 Axes>"
      ]
     },
     "metadata": {
      "needs_background": "light"
     },
     "output_type": "display_data"
    }
   ],
   "source": [
    "plt.figure(figsize=(7,5))\n",
    "plt.plot(df_daily.index, df_daily.total, 'o-',label='confirmados')\n",
    "plt.plot(xx, yy, '*-',label='prognostico')\n",
    "plt.xticks(rotation=15)\n",
    "plt.xlabel('dias')\n",
    "plt.ylabel('casos confirmados')\n",
    "plt.grid(True)\n",
    "plt.legend()\n",
    "plt.show()"
   ]
  },
  {
   "cell_type": "markdown",
   "metadata": {},
   "source": [
    "### Prognostico siguientes dos días"
   ]
  },
  {
   "cell_type": "code",
   "execution_count": 29,
   "metadata": {},
   "outputs": [],
   "source": [
    "next_two_days = exp_func(xx[-2:], popt[0],popt[1],popt[2]  )\n",
    "predictions = list(map(int,next_two_days))\n",
    "dates = [ (dt.datetime.now()+dt.timedelta(days=i)).strftime('%Y/%m/%d') for i in [1,2] ]"
   ]
  },
  {
   "cell_type": "code",
   "execution_count": 30,
   "metadata": {},
   "outputs": [
    {
     "name": "stdout",
     "output_type": "stream",
     "text": [
      "predicciones para los siguientes dos dias:\n",
      " 2020/03/29: 704 \n",
      " 2020/03/30: 788\n"
     ]
    }
   ],
   "source": [
    "print(f'predicciones para los siguientes dos dias:\\n {dates[0]}: {predictions[0]} \\n {dates[1]}: {predictions[1]}')"
   ]
  },
  {
   "cell_type": "markdown",
   "metadata": {},
   "source": [
    "### INCERTIDUMBRES NO INCLUIDAS!! \n",
    "(las pueden encontrar en la matrix de covariancia **pcov** )"
   ]
  },
  {
   "cell_type": "code",
   "execution_count": null,
   "metadata": {},
   "outputs": [],
   "source": []
  }
 ],
 "metadata": {
  "kernelspec": {
   "display_name": "Python 3",
   "language": "python",
   "name": "python3"
  },
  "language_info": {
   "codemirror_mode": {
    "name": "ipython",
    "version": 3
   },
   "file_extension": ".py",
   "mimetype": "text/x-python",
   "name": "python",
   "nbconvert_exporter": "python",
   "pygments_lexer": "ipython3",
   "version": "3.7.7"
  }
 },
 "nbformat": 4,
 "nbformat_minor": 4
}
